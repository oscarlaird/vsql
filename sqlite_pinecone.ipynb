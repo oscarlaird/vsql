{
 "cells": [
  {
   "cell_type": "code",
   "execution_count": 6,
   "metadata": {},
   "outputs": [],
   "source": [
    "from vsql.relational_dbs.sqlite import VectorVirtualTableModule\n",
    "from vsql.vector_dbs.faiss import FlatFaissVDB\n",
    "from vsql.embedders.st import embed as st_embed\n",
    "import apsw\n",
    "from tabulate import tabulate"
   ]
  },
  {
   "cell_type": "markdown",
   "metadata": {},
   "source": [
    "### Setup a dummy table and a vector index on it"
   ]
  },
  {
   "cell_type": "code",
   "execution_count": 2,
   "metadata": {},
   "outputs": [],
   "source": [
    "# connect to the relational database using APSW (you can use this cursor just like a normal sqlite3 cursor)\n",
    "conn = apsw.Connection(\":memory:\")\n",
    "# declare a normal table\n",
    "conn.execute(\"create table foo (id integer, name text, price integer)\")\n",
    "# register the vector database extension w/ sqlite \n",
    "index = FlatFaissVDB(ndim = 384)\n",
    "conn.create_module(\"vdb_faiss_st\", VectorVirtualTableModule(embedder = st_embed, index = index))\n",
    "# declare a virtual table for vector search\n",
    "conn.execute(\"create virtual table foo_vdb using vdb_faiss_st ()\")\n",
    "# use triggers to sync the tables\n",
    "conn.execute(\"CREATE TRIGGER foo_ai AFTER INSERT ON foo BEGIN INSERT INTO foo_vdb (id, query, similarity) VALUES (new.id, new.name, 0); END;\")\n",
    "pass"
   ]
  },
  {
   "cell_type": "code",
   "execution_count": 3,
   "metadata": {},
   "outputs": [
    {
     "data": {
      "text/plain": [
       "<apsw.Cursor at 0x7fea010b09e0>"
      ]
     },
     "execution_count": 3,
     "metadata": {},
     "output_type": "execute_result"
    }
   ],
   "source": [
    "products = [\n",
    "    (1, 'Eco-Friendly Bamboo Desk Organizer', 35),\n",
    "    (2, 'Handcrafted Ceramic Vase', 40),\n",
    "    (3, 'Smart LED Light Strip', 60),\n",
    "    (4, 'Portable Bluetooth Speaker', 50),\n",
    "    (5, 'Aromatherapy Essential Oil Diffuser', 25),\n",
    "    (6, 'Vintage Leather Journal', 30),\n",
    "    (7, 'Gourmet Coffee Bean Sampler', 45),\n",
    "    (8, 'Waterproof Outdoor Blanket', 20),\n",
    "    (9, 'Adjustable Dumbbells Set', 80),\n",
    "    (10, 'Digital Kitchen Scale', 15)\n",
    "]\n",
    "conn.executemany(\"insert into foo (id, name, price) values (?, ?, ?)\", products)"
   ]
  },
  {
   "cell_type": "markdown",
   "metadata": {},
   "source": [
    "### Query the tables"
   ]
  },
  {
   "cell_type": "code",
   "execution_count": 13,
   "metadata": {},
   "outputs": [
    {
     "name": "stdout",
     "output_type": "stream",
     "text": [
      "Top products similar to 'cooking'\n",
      "+-----------------------------+-------+--------------------+\n",
      "|        Product Name         | Price |     Similarity     |\n",
      "+-----------------------------+-------+--------------------+\n",
      "|    Digital Kitchen Scale    |  15   | 1.5366830825805664 |\n",
      "|  Handcrafted Ceramic Vase   |  40   | 1.6337971687316895 |\n",
      "| Gourmet Coffee Bean Sampler |  45   | 1.802882432937622  |\n",
      "+-----------------------------+-------+--------------------+\n"
     ]
    }
   ],
   "source": [
    "query = 'cooking'\n",
    "recs = conn.execute(\"\"\"\n",
    "    SELECT name, price, similarity\n",
    "    FROM foo_vdb JOIN foo ON foo.id=foo_vdb.id\n",
    "    WHERE foo_vdb.query=? ORDER BY similarity\n",
    "    LIMIT 3\"\"\",\n",
    "(query,)).fetchall()\n",
    "# pretty print the results\n",
    "print(\"Top products similar to '{}'\".format(query))\n",
    "print(tabulate(recs, headers=[\"Product Name\", \"Price\", \"Similarity\"], tablefmt=\"pretty\", showindex=False))\n"
   ]
  }
 ],
 "metadata": {
  "kernelspec": {
   "display_name": "vsql-0UQecWed-py3.10",
   "language": "python",
   "name": "python3"
  },
  "language_info": {
   "codemirror_mode": {
    "name": "ipython",
    "version": 3
   },
   "file_extension": ".py",
   "mimetype": "text/x-python",
   "name": "python",
   "nbconvert_exporter": "python",
   "pygments_lexer": "ipython3",
   "version": "3.10.12"
  }
 },
 "nbformat": 4,
 "nbformat_minor": 2
}
